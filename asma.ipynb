{
  "cells": [
    {
      "cell_type": "markdown",
      "metadata": {
        "id": "view-in-github",
        "colab_type": "text"
      },
      "source": [
        "<a href=\"https://colab.research.google.com/github/borhanDZ/your-code-is-vulnerable/blob/master/asma.ipynb\" target=\"_parent\"><img src=\"https://colab.research.google.com/assets/colab-badge.svg\" alt=\"Open In Colab\"/></a>"
      ]
    },
    {
      "cell_type": "code",
      "execution_count": null,
      "metadata": {
        "colab": {
          "base_uri": "https://localhost:8080/"
        },
        "id": "g3rAHkcMiYj0",
        "outputId": "fd860da0-6407-4571-ee92-59c74159d54c"
      },
      "outputs": [
        {
          "output_type": "stream",
          "name": "stdout",
          "text": [
            "Looking in indexes: https://pypi.org/simple, https://us-python.pkg.dev/colab-wheels/public/simple/\n",
            "Collecting mpi4py\n",
            "  Downloading mpi4py-3.1.4.tar.gz (2.5 MB)\n",
            "\u001b[2K     \u001b[90m━━━━━━━━━━━━━━━━━━━━━━━━━━━━━━━━━━━━━━━━\u001b[0m \u001b[32m2.5/2.5 MB\u001b[0m \u001b[31m68.7 MB/s\u001b[0m eta \u001b[36m0:00:00\u001b[0m\n",
            "\u001b[?25h  Installing build dependencies ... \u001b[?25l\u001b[?25hdone\n",
            "  Getting requirements to build wheel ... \u001b[?25l\u001b[?25hdone\n",
            "  Preparing metadata (pyproject.toml) ... \u001b[?25l\u001b[?25hdone\n",
            "Building wheels for collected packages: mpi4py\n",
            "  Building wheel for mpi4py (pyproject.toml) ... \u001b[?25l\u001b[?25hdone\n",
            "  Created wheel for mpi4py: filename=mpi4py-3.1.4-cp38-cp38-linux_x86_64.whl size=4438485 sha256=e80638ef3fea3c985be5ce649442d8b263fbcd675cbdd26f85460617f1caaa02\n",
            "  Stored in directory: /root/.cache/pip/wheels/f3/35/48/0b9a7076995eea5ea64a7e4bc3f0f342f453080795276264e7\n",
            "Successfully built mpi4py\n",
            "Installing collected packages: mpi4py\n",
            "Successfully installed mpi4py-3.1.4\n"
          ]
        }
      ],
      "source": [
        "! pip install mpi4py"
      ]
    },
    {
      "cell_type": "code",
      "execution_count": null,
      "metadata": {
        "colab": {
          "base_uri": "https://localhost:8080/"
        },
        "id": "kFcCnd_Ytg4F",
        "outputId": "b2c528d2-e3f1-4230-a623-5daa8e6a060a"
      },
      "outputs": [
        {
          "output_type": "stream",
          "name": "stdout",
          "text": [
            "Writing asma.py\n"
          ]
        }
      ],
      "source": [
        "%%writefile asma.py\n",
        "from mpi4py import MPI\n",
        "from random import randint\n",
        "\n",
        "print (\"######## Tri a bulle with Point-to-Point Communication #########\")\n",
        "\n",
        "def tri(L,sp,fp,V):\n",
        "    for i in range(1,V):\n",
        "        for x in range(sp,fp-i):\n",
        "            if L[x]> L[x+1]:\n",
        "                e,L[x+1] = L[x+1],L[x]\n",
        "                L[x] = e \n",
        "    return L\n",
        "\n",
        "def tri_every_party(paralel_v):\n",
        "    L,comm,P,size = paralel_v\n",
        "    data = [0,0,0,0]\n",
        "    V = len(L[0])//size  # N/P \n",
        "    for i in range(size):\n",
        "        if P == 0:\n",
        "           for j in range(len(L)):\n",
        "              data[j] = tri(L[j],0,V,V)   # data[j]: indicate the L list share between process\n",
        "              comm.send(data[j], dest=1,tag=j+1)\n",
        "        if P == 1:\n",
        "           for j in range(4):\n",
        "              data[j] = comm.recv(source=0,tag=j+1)\n",
        "              data[j] = tri(data[j],V,(2*V),V)  \n",
        "              comm.send(data[j], dest=2,tag=j+1)\n",
        "        if P == 2:\n",
        "           for j in range(4):\n",
        "              data[j] = comm.recv(source=1,tag=j+1)\n",
        "              data[j] = tri (data[j],(2*V),(3*V),V)\n",
        "              comm.send(data[j], dest=3,tag=j+1)\n",
        "        if P == 3:\n",
        "           for j in range(4):\n",
        "              data[j] = comm.recv(source=2,tag=j+1)\n",
        "              data[j] = tri(data[j],(3*V),(4*V),V)\n",
        "              print(\"Every process try to sort his party:\",data[j],\"\\n\")\n",
        "              if j == 3:\n",
        "                 print(\"\\n\\n\")\n",
        "                 return data\n",
        "           \n",
        "def change_min_max(L,Tup,Pv,comm):\n",
        "    x = Tup\n",
        "    #comm.send(L,dest=Pv,tag=Pv)\n",
        "    #L = comm.recv(source=Pv,tag=Pv)\n",
        "    for i in range(1,x):\n",
        "       for k in range(len(L)-i):\n",
        "        if L[k]>L[k+1]:\n",
        "            E = L[k]\n",
        "            L[k] = L[k+1]\n",
        "            L[k+1] = E\n",
        "    return L\n",
        "\n",
        "def paralell_tri(paralel_v):\n",
        "    L,comm,P,size = paralel_v\n",
        "    V = len(L[0])//size  # N/P\n",
        "    data = tri_every_party(paralel_v) \n",
        "    if data != None:\n",
        "       for j in range(len(data)):\n",
        "\n",
        "          while True:\n",
        "\n",
        "              print (\"jsdfhkgv\",P)\n",
        "              if P == 0:\n",
        "                Pvoisin = 1\n",
        "                Tup = (0,V,V)\n",
        "                data[j] = change_min_max(data[j],Tup,Pvoisin,comm)\n",
        "              if P ==1:\n",
        "                Pvoisin = 2\n",
        "                Tup = (V,2*V,V)\n",
        "                data[j] = change_min_max(data[j],Tup,Pvoisin,comm)\n",
        "              if P ==2:\n",
        "                Pvoisin = 3\n",
        "                Tup = (2*V,3*V,V)\n",
        "                data[j] = change_min_max(data[j],Tup,Pvoisin,comm)\n",
        "              if P == 3:\n",
        "                Pvoisin = 0\n",
        "                Tup = (4*V)\n",
        "                result = change_min_max(data[j],Tup,Pvoisin,comm)\n",
        "                \n",
        "              if (max(result[0:V])<= min(result[V:2*V]) and max(result[V:2*V])<= min(result[2*V:3*V]) and max(result[2*V:3*V])<= min(result[3*V:4*V])):\n",
        "                print(\"Congratulation All 4 process has been doing the work correctly:\\n\",result,\"\\n\")\n",
        "                break\n",
        "       \n",
        "\n",
        "#... this func generate matrix l[n][m]\n",
        "def gen_rand_list(n,m):\n",
        "    Gl,Pl = [],[]\n",
        "    for a in range(n):\n",
        "        for b in range(m):\n",
        "            Pl.append(randint(0,30))\n",
        "        Gl.append(Pl) \n",
        "        Pl = []\n",
        "    return Gl\n",
        "\n",
        "\n",
        "def main():\n",
        "    comm = MPI.COMM_WORLD\n",
        "    size = comm.Get_size()\n",
        "    P = comm.Get_rank()\n",
        "    r = gen_rand_list(4,16)    #[12,5,11,2,8,7,19,4,3,10,15,9,20,14,6,1]\n",
        "    paralel_v = (r,comm,P,size)\n",
        "    print(paralell_tri(paralel_v))\n",
        "\n",
        "main()"
      ]
    },
    {
      "cell_type": "code",
      "execution_count": null,
      "metadata": {
        "colab": {
          "base_uri": "https://localhost:8080/"
        },
        "id": "dzo1-lDNcp-E",
        "outputId": "70ccb848-b561-43bc-ce2f-eb1dc5bfd7e6"
      },
      "outputs": [
        {
          "output_type": "stream",
          "name": "stdout",
          "text": [
            "######## Tri a bulle with Point-to-Point Communication #########\n",
            "None\n",
            "######## Tri a bulle with Point-to-Point Communication #########\n",
            "######## Tri a bulle with Point-to-Point Communication #########\n",
            "######## Tri a bulle with Point-to-Point Communication #########\n",
            "None\n",
            "None\n",
            "Every process try to sort his party: [2, 4, 9, 27, 5, 16, 19, 29, 5, 14, 17, 23, 3, 6, 14, 22] \n",
            "\n",
            "Every process try to sort his party: [5, 24, 24, 25, 6, 21, 23, 23, 25, 27, 28, 30, 4, 5, 21, 25] \n",
            "\n",
            "Every process try to sort his party: [2, 8, 29, 29, 2, 11, 11, 19, 1, 8, 10, 16, 3, 19, 21, 25] \n",
            "\n",
            "Every process try to sort his party: [1, 8, 22, 28, 4, 23, 28, 30, 7, 11, 18, 29, 6, 20, 22, 25] \n",
            "\n",
            "\n",
            "\n",
            "\n",
            "jsdfhkgv 3\n",
            "Congratulation All 4 process has been doing the work correctly:\n",
            " [2, 3, 4, 5, 5, 6, 9, 14, 14, 16, 17, 19, 22, 23, 27, 29] \n",
            "\n",
            "jsdfhkgv 3\n",
            "Congratulation All 4 process has been doing the work correctly:\n",
            " [4, 5, 5, 6, 21, 21, 23, 23, 24, 24, 25, 25, 25, 27, 28, 30] \n",
            "\n",
            "jsdfhkgv 3\n",
            "Congratulation All 4 process has been doing the work correctly:\n",
            " [1, 2, 2, 3, 8, 8, 10, 11, 11, 16, 19, 19, 21, 25, 29, 29] \n",
            "\n",
            "jsdfhkgv 3\n",
            "Congratulation All 4 process has been doing the work correctly:\n",
            " [1, 4, 6, 7, 8, 11, 18, 20, 22, 22, 23, 25, 28, 28, 29, 30] \n",
            "\n",
            "None\n"
          ]
        }
      ],
      "source": [
        "! mpirun --allow-run-as-root -np 4 python asma.py"
      ]
    }
  ],
  "metadata": {
    "colab": {
      "provenance": [],
      "toc_visible": true,
      "include_colab_link": true
    },
    "kernelspec": {
      "display_name": "Python 3",
      "name": "python3"
    },
    "language_info": {
      "name": "python"
    }
  },
  "nbformat": 4,
  "nbformat_minor": 0
}